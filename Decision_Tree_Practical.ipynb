{
  "nbformat": 4,
  "nbformat_minor": 0,
  "metadata": {
    "colab": {
      "provenance": [],
      "include_colab_link": true
    },
    "kernelspec": {
      "name": "python3",
      "display_name": "Python 3"
    },
    "language_info": {
      "name": "python"
    }
  },
  "cells": [
    {
      "cell_type": "markdown",
      "metadata": {
        "id": "view-in-github",
        "colab_type": "text"
      },
      "source": [
        "<a href=\"https://colab.research.google.com/github/ntnrgtic/Bicycle_Dynamics/blob/main/Decision_Tree_Practical.ipynb\" target=\"_parent\"><img src=\"https://colab.research.google.com/assets/colab-badge.svg\" alt=\"Open In Colab\"/></a>"
      ]
    },
    {
      "cell_type": "markdown",
      "source": [
        "# APL405: Machine Learning for Mechanics (Practical on Decision Trees)\n",
        "**Instructor**: [Rajdip Nayek](https://https://sites.google.com/view/rajdip-nayek/team?authuser=0)"
      ],
      "metadata": {
        "id": "_n4hkuHNo4pt"
      }
    },
    {
      "cell_type": "markdown",
      "source": [
        "## Classifying a stiff from a non-stiff spring\n",
        "Consider a synthetic binary classification problem (two classes) with a given experimental dataset having $N = 30$ (statistically independent) observations of $2$-dimensional input variables $\\mathbf{x} = [x_1 \\;\\; x_2]^T$ and one categorical output $y$, representing either $\\mathtt{Stiff}$ or $\\mathtt{Non-Stiff}$ linear elastic spring. A series of experiments were carried out on the two classes of springs. In an experiment, a block of known weight $w$ kg $(x_1)$  would be vertically hung from one end of the spring, and the corresponding stretch $d$ mm $(x_2)$ of the spring would be noted. "
      ],
      "metadata": {
        "id": "PxVhMAlm84sX"
      }
    },
    {
      "cell_type": "markdown",
      "source": [
        "Download the experimental dataset of 30 input-output pairs from $\\mathtt{spring\\_ stiffness\\_classify.h5}$ file from the [course website](https://github.com/coursesAM/APL405/blob/main/Practicals/Datasets/spring_stiffness_classify.h5) and load it on colab drive. You should see your file on the left panel under \"Files\" \n",
        "\n",
        "![image.png](data:image/png;base64,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)"
      ],
      "metadata": {
        "id": "EeGenXvE8v9G"
      }
    },
    {
      "cell_type": "code",
      "source": [
        "# import relevant libraries\n",
        "import math\n",
        "import h5py\n",
        "from matplotlib import pyplot as plt"
      ],
      "metadata": {
        "id": "Umyf0ORU_qHv"
      },
      "execution_count": null,
      "outputs": []
    },
    {
      "cell_type": "code",
      "execution_count": null,
      "metadata": {
        "colab": {
          "base_uri": "https://localhost:8080/"
        },
        "id": "mMUsTdH48hDb",
        "outputId": "6feef1f5-ce7d-4d4e-90b7-a206dabb70c9"
      },
      "outputs": [
        {
          "output_type": "stream",
          "name": "stdout",
          "text": [
            "<HDF5 dataset \"dataset\": shape (30, 3), type \"<f8\">\n"
          ]
        }
      ],
      "source": [
        "data = h5py.File('spring_stiffness_classify.h5','r')\n",
        "dataset = data.get('dataset')    \n",
        "print(dataset)"
      ]
    },
    {
      "cell_type": "markdown",
      "source": [
        "(a) **Data Visualization**: The dataset has two columns for inputs and a third column for output classes for spring type (taken as 0 - Non-stiff and 1 - Stiff). \n",
        "\n",
        "---\n",
        "\n",
        "\n",
        "Plot the dataset in two dimensions and use circular markers (blue and red) to denote the two different classes [*2 marks*]\n",
        "\n",
        "\n",
        "---\n",
        "\n"
      ],
      "metadata": {
        "id": "jE1Z5QPTAqf9"
      }
    },
    {
      "cell_type": "code",
      "source": [
        "# Sort the dataset into two lists\n",
        "# Each list should contain data belonging to the particular class\n",
        "class1 = [] # should have dataset only belonging to non-stiff spring\n",
        "class2 = [] # should have dataset only belonging to stiff spring\n",
        "for i in range(len(dataset)):\n",
        "  if dataset[i][-1] == 0:\n",
        "      class1.append(dataset[i])\n",
        "  else:\n",
        "      class2.append(dataset[i])\n",
        "\n",
        "## Features of the data stored in the list\n",
        "x1 = []\n",
        "y1 = []\n",
        "x2 = []\n",
        "y2 = []\n",
        "for i in range(len(class1)):\n",
        "  x1.append(class1[i][0])\n",
        "  y1.append(class1[i][1])\n",
        "for i in range(len(class2)):\n",
        "  x2.append(class2[i][0])\n",
        "  y2.append(class2[i][1])\n",
        "\n",
        "## Plot\n",
        "plt.scatter(x1,y1,color = 'b')\n",
        "plt.scatter(x2,y2,color = 'r')\n",
        "plt.legend(['Non-stiff','Stiff'])"
      ],
      "metadata": {
        "id": "s-67MVTcBpHn",
        "colab": {
          "base_uri": "https://localhost:8080/",
          "height": 282
        },
        "outputId": "4c2ef0f1-02e7-4b40-ffe8-4e59cb5398ce"
      },
      "execution_count": null,
      "outputs": [
        {
          "output_type": "execute_result",
          "data": {
            "text/plain": [
              "<matplotlib.legend.Legend at 0x7f6a2a57a520>"
            ]
          },
          "metadata": {},
          "execution_count": 50
        },
        {
          "output_type": "display_data",
          "data": {
            "text/plain": [
              "<Figure size 432x288 with 1 Axes>"
            ],
            "image/png": "[encoded data removed]"
          },
          "metadata": {
            "needs_background": "light"
          }
        }
      ]
    },
    {
      "cell_type": "markdown",
      "source": [
        "# Calculating the Gini index\n",
        "\n",
        "The Gini index is a loss function that can be used to evaluate splits in the dataset. A split in the dataset involves one input feature and one value for that input feature. It can be used to divide training data into two regions (each region containing a set of observations in the form of rows).\n",
        "\n",
        "A Gini score gives an idea of how good a split is by how mixed the classes are in the two regions created by the split. A perfect separation results in a Gini score of 0, whereas the worst case split that results in 50/50 classes in each group results in a Gini score of 0.5 (for a 2 class problem).\n",
        "\n",
        "$\\mathtt{Gini \\;\\;index}: Q_{\\ell} = \\sum_{m=1}^M \\hat{\\pi}_{\\ell, m}(1-\\hat{\\pi}_{\\ell, m}) = 1 - \\sum_{m=1}^M \\hat{\\pi}_{\\ell, m}^2$; \n",
        "\n",
        "$\\hat{\\pi}_{\\ell, m}$ is the proportion of observations in that belong to $m$th class and $\\ell$th region"
      ],
      "metadata": {
        "id": "knTfSJnKpZFA"
      }
    },
    {
      "cell_type": "markdown",
      "source": [
        "(b) Write a function to calculate the Gini index for a list of regions and a list of known class values. Also test your Gini index function if it works fine  [*5 marks*]\n"
      ],
      "metadata": {
        "id": "XvyBslPHBoda"
      }
    },
    {
      "cell_type": "code",
      "source": [
        "def gini_index(regions, classes):\n",
        "\n",
        "\t# regions: two regions containing a list of input points and their corresponding classes \n",
        "  # classes: list of M classes denoted as 0,1,...,M\n",
        "\n",
        "  # sum weighted Gini index for each region\n",
        "\tgini_score = 0.0\n",
        "\tfor region in regions:\n",
        "\t\tsize = float(len(region))\n",
        "  \n",
        "\t\t# avoid divide by zero\n",
        "\t\tif size == 0:\n",
        "\t\t\tcontinue\n",
        "\t\tscore = 0.0\n",
        "\n",
        "\t\t# Gini score for the region based on the Gini score for each class\n",
        "\t\tfor class_val in classes:\n",
        "\t\t\tp = [row[-1] for row in region].count(class_val) / size\n",
        "\t\t\tscore += p * p\n",
        "\n",
        "\t\t# weight the group score by its relative size\n",
        "\t\tgini_score += (1.0 - score) * size \n",
        "\t\t\n",
        "\t\n",
        "\treturn gini_score"
      ],
      "metadata": {
        "id": "zx8uHxJ51goc"
      },
      "execution_count": null,
      "outputs": []
    },
    {
      "cell_type": "code",
      "source": [
        "# Test your Gini index\n",
        "print(gini_index([class1, class2], [0, 1])) # should output 0.0\n"
      ],
      "metadata": {
        "colab": {
          "base_uri": "https://localhost:8080/"
        },
        "id": "asYu4bfoyXic",
        "outputId": "54e9844d-3d6b-4c93-f364-2b42ed8007f9"
      },
      "execution_count": null,
      "outputs": [
        {
          "output_type": "stream",
          "name": "stdout",
          "text": [
            "0.0\n"
          ]
        }
      ]
    },
    {
      "cell_type": "markdown",
      "source": [
        "# Splitting a dataset at root node\n",
        "\n",
        "Splitting a dataset means separating a dataset into two lists (i.e. regions) of rows given the index of an input feature and a threshold value for that feature. Once we have the two regions, we can then use our Gini score above to evaluate the cost of the split. Splitting a dataset involves iterating over each row, checking if the input feature value is below or above the threshold value and assigning it to the left or right region respectively.\n"
      ],
      "metadata": {
        "id": "_Fs7pnbW3EFe"
      }
    },
    {
      "cell_type": "markdown",
      "source": [
        "(c) Write a function $\\mathtt{split\\_node}$ function to split a dataset into two (left and right) lists (representing regions) of data [*3 marks*]"
      ],
      "metadata": {
        "id": "Y6Rxglje34fJ"
      }
    },
    {
      "cell_type": "code",
      "source": [
        "# Split a dataset based on an input feature and a input feature value\n",
        "\n",
        "def split_at_root_node(feature_index, value, dataset):\n",
        "\n",
        "\tleft, right = list(), list() # initialize lists\n",
        "\n",
        "\tfor row in dataset:\n",
        "\n",
        "\t\tif row[feature_index] < value:\n",
        "\t\t\tleft.append(row)\n",
        "\t\telse:\n",
        "\t\t\tright.append(row)\n",
        "\t \n",
        "\treturn left, right"
      ],
      "metadata": {
        "id": "acuF5bs55tPL"
      },
      "execution_count": null,
      "outputs": []
    },
    {
      "cell_type": "markdown",
      "source": [
        "# Finding the best split at a node\n",
        "\n",
        "With the help of a loss function (e.g. Gini index) and the splitting function we now have everything we need to evaluate splits. Given a dataset, we must check every value on each input feature as a candidate split, evaluate the cost of the split and find the best possible split we could make. Once the\n",
        "best split is found, we can use it as a node in our decision tree. \n",
        "\n",
        "We will use a dictionary to represent a node in the decision tree as we can store data by name. When selecting the best split and using it as a new node for the tree we will store the index of the chosen input feature, the value of that input feature by which to split and the two groups of data split by the chosen split point.\n",
        "\n",
        "Each region will have its own small dataset of just those rows assigned to the left or right region by the splitting process. You can imagine how we might split each region again, recursively as we build out our decision tree."
      ],
      "metadata": {
        "id": "xflR_AiF59KU"
      }
    },
    {
      "cell_type": "markdown",
      "source": [
        "(d) Write a function $\\mathtt{get\\_best\\_split}$ to evaluate various splits and output the best split [*5 marks*]"
      ],
      "metadata": {
        "id": "ia5AkUhnar10"
      }
    },
    {
      "cell_type": "code",
      "source": [
        "# Select the best split point for a given dataset\n",
        "def get_best_split(dataset):\n",
        "\n",
        "\t# Find the different classes present in the dataset\n",
        "\tclass_values = list(set(row[-1] for row in dataset)) \n",
        " \n",
        " \t# initialize best_index, best_threshold, best_gini_score, best_regions\n",
        "\tbest_index \t\t\t= 999\n",
        "\tbest_value\t\t \t= 999\n",
        "\tlowest_loss \t\t= 999\n",
        "\tbest_regions \t\t= None\n",
        "\n",
        "\t# write an outer loop for going over all input feature index\n",
        "\t# write an inner loop \n",
        "\n",
        "\ttotal_input_features = len(dataset[0])-1\t# total input features x_1, x_2, ...\n",
        " \n",
        "\tfor input_index in range(total_input_features): # looping over feature index\n",
        "\n",
        "\t\tfor row in dataset: # looping over feature values\n",
        "\n",
        "\t\t\t# get left and right regions\n",
        "\t\t\tregions = split_at_root_node(input_index, row[input_index], dataset)\n",
        "\t \n",
        "\t \t\t# evaluate Gini index for the split\n",
        "\t\t\tgini_loss = gini_index(regions, class_values)\n",
        "\t \n",
        "\t\t\tprint('X%d < %.3f Gini=%.3f' % ((input_index+1), row[input_index], gini_loss))\n",
        "\t \n",
        "\t\t\tif gini_loss < lowest_loss:\n",
        "\t\t\t\tbest_index \t\t\t= input_index\n",
        "\t\t\t\tbest_value \t\t\t= row[input_index]\n",
        "\t\t\t\tlowest_loss    \t= gini_loss\n",
        "\t\t\t\tbest_regions \t\t= regions\n",
        "\t\t\t\t\n",
        "\treturn {'index':best_index, 'value':best_value, 'regions':best_regions}\n"
      ],
      "metadata": {
        "id": "2RvbPNDZUWSH"
      },
      "execution_count": null,
      "outputs": []
    },
    {
      "cell_type": "code",
      "source": [
        "# Test your text_split()\n",
        "print(get_best_split(dataset))  "
      ],
      "metadata": {
        "id": "Uxkrr1a_5x4T"
      },
      "execution_count": null,
      "outputs": []
    },
    {
      "cell_type": "markdown",
      "source": [
        "# Stopping criteria\n",
        "We need to decide when to stop growing a tree. We can do that using the depth and the number of rows (or data points) in a node is responsible for in the training dataset.\n",
        "\n",
        "*   **Maximum Tree Depth**\n",
        "This is the maximum number of nodes from the root node of the tree. Once a maximum depth of the tree is met, we must stop adding new nodes. Deeper trees are more complex and are more likely to overfit the training data.\n",
        "\n",
        "*   **Minimum number of training observations in an internal node**\n",
        "This is the minimum number of training patterns that a given internal node harbors. Once at or below this minimum, we must stop splitting and\n",
        "adding new nodes. \n",
        "\n",
        "Now we have some ideas of when to stop growing the tree. When we do stop growing at a given point, that node is called a *leaf* and is used to make a final prediction. This is done by taking the group of rows assigned to the leaf and selecting the most common class value in the group. This will be used to make predictions. "
      ],
      "metadata": {
        "id": "fJNQlF7AiVVd"
      }
    },
    {
      "cell_type": "markdown",
      "source": [
        "(e) Write a function $\\mathtt{leaf}$ that will select a class value for a region (i.e. group of rows). It should return the most common output value in a list of rows [*2 marks*]"
      ],
      "metadata": {
        "id": "L10LqzcllTle"
      }
    },
    {
      "cell_type": "code",
      "source": [
        "# Create a leaf value\n",
        "def leaf_output(region):\n",
        "  outcomes = [row[-1] for row in region]\n",
        "  return max(set(outcomes), key=outcomes.count)"
      ],
      "metadata": {
        "id": "4MMCDsMVl0-x"
      },
      "execution_count": null,
      "outputs": []
    },
    {
      "cell_type": "markdown",
      "source": [
        "# Building a tree using Recursive Splitting Algorithm\n",
        "\n",
        "We know how and when to create leaf nodes; now we can build our tree. Building a\n",
        "decision tree involves calling the above developed $\\mathtt{get\\_best\\_split}$ function over and over again on the regions created for each node. \n",
        "\n",
        "New nodes added to an existing node are called *internal* nodes. An internal node may be a leaf node plus an internal child node (the leaf node side makes a prediction directly) or two internal child nodes. We will refer to the child nodes as left and right in the dictionary representation of a given internal node. Once a node is created, we can create child nodes recursively on each group of data from the split by calling the same function again. \n"
      ],
      "metadata": {
        "id": "UKLg_R6bmHwJ"
      }
    },
    {
      "cell_type": "markdown",
      "source": [
        "(f) Write a function that implements the recursive splitting algorithm. It takes a node as an argument as well as the maximum depth, minimum number of\n",
        "observations in a node and the current depth of an internal node. [*7 marks*]\n"
      ],
      "metadata": {
        "id": "NVw_eeAO7Lrh"
      }
    },
    {
      "cell_type": "code",
      "source": [
        "# Creates internal child splits for a node or make a leaf node\n",
        "def split(internal_node, max_depth, min_size, depth):\n",
        "\n",
        "\tleft, right = internal_node['regions']\n",
        "\n",
        "\tdel(internal_node['regions'])\n",
        " \n",
        "\t# check for no split\n",
        "\tif not left or not right:\n",
        "\t\tinternal_node['left'] = internal_node['right'] = leaf_output(left + right)\n",
        "\t\treturn\n",
        "\n",
        "\t# check for max depth\n",
        "\tif depth >= max_depth:\n",
        "\t\tinternal_node['left'], internal_node['right'] = leaf_output(left), leaf_output(right)\n",
        "\t\treturn\n",
        "\n",
        "\t# process left child\n",
        "\tif len(left) <= min_size:\n",
        "\t\tinternal_node['left'] = leaf_output(left)\n",
        "\telse:\n",
        "\t\tinternal_node['left'] = get_best_split(left)\n",
        "\t\tsplit(internal_node['left'], max_depth, min_size, depth+1)\n",
        "  \n",
        "\t# process right child\n",
        "\tif len(right) <= min_size:\n",
        "\t\tinternal_node['right'] = leaf_output(right)\n",
        "\telse:\n",
        "\t\tinternal_node['right'] = get_best_split(right)\n",
        "\t\tsplit(internal_node['right'], max_depth, min_size, depth+1)"
      ],
      "metadata": {
        "id": "F1KcyHnExv3u"
      },
      "execution_count": null,
      "outputs": []
    },
    {
      "cell_type": "markdown",
      "source": [
        "(g) Write a function that builds and prints the tree. [*5 marks*]\n"
      ],
      "metadata": {
        "id": "wG7Zvll098xk"
      }
    },
    {
      "cell_type": "code",
      "source": [
        "# Build a decision tree\n",
        "def build_tree(train, max_depth, min_size):\n",
        "\troot = get_best_split(train)\n",
        "\tsplit(root, max_depth, min_size, 1)\n",
        "\treturn root"
      ],
      "metadata": {
        "id": "jmgcEG7Yyk5L"
      },
      "execution_count": null,
      "outputs": []
    },
    {
      "cell_type": "code",
      "source": [
        "# Print a decision tree\n",
        "def print_tree(node, depth=0):\n",
        "\tif isinstance(node, dict):\n",
        "\t\tprint('%s[X%d < %.3f]' % ((depth*' ', (node['index']+1), node['value'])))\n",
        "\t\tprint_tree(node['left'], depth+1)\n",
        "\t\tprint_tree(node['right'], depth+1)\n",
        "\telse:\n",
        "\t\tprint('%s[%s]' % ((depth*' ', node)))"
      ],
      "metadata": {
        "id": "VqinQJn4zjwJ"
      },
      "execution_count": null,
      "outputs": []
    },
    {
      "cell_type": "code",
      "source": [
        "tree = build_tree(dataset, 2, 3)"
      ],
      "metadata": {
        "id": "rQADh13X-_QO"
      },
      "execution_count": null,
      "outputs": []
    },
    {
      "cell_type": "code",
      "source": [
        "print_tree(tree)"
      ],
      "metadata": {
        "colab": {
          "base_uri": "https://localhost:8080/"
        },
        "id": "5UBExg46_J-Q",
        "outputId": "90796926-9a58-484e-8f34-bd962838d476"
      },
      "execution_count": null,
      "outputs": [
        {
          "output_type": "stream",
          "name": "stdout",
          "text": [
            "[X2 < 3.449]\n",
            " [X1 < 34.000]\n",
            "  [0.0]\n",
            "  [0.0]\n",
            " [X1 < 17.000]\n",
            "  [0.0]\n",
            "  [1.0]\n"
          ]
        }
      ]
    },
    {
      "cell_type": "markdown",
      "source": [
        "# Make predictions using decision tree\n",
        "\n",
        "Making predictions with a decision tree involves navigating the tree with the specifically provided input data. Again, we can implement this using a recursive function, where the same prediction routine is called again with the left or the right internal child nodes, depending on how the split affects the provided data. We must check if an internal child node is either a leaf value to be returned as the prediction, or if it is an internal node containing another level of the tree to be considered."
      ],
      "metadata": {
        "id": "Xol9SWNRAmOp"
      }
    },
    {
      "cell_type": "markdown",
      "source": [
        "(h) Write a function $\\mathtt{predict}$ to output prediction for a test input. [*3 marks*]"
      ],
      "metadata": {
        "id": "RcnGKSvLBIEs"
      }
    },
    {
      "cell_type": "code",
      "source": [
        "# Make a prediction with a decision tree\n",
        "def predict(node, row):\n",
        "\tif row[node['index']] < node['value']:\n",
        "\t\tif isinstance(node['left'], dict):\n",
        "\t\t\treturn predict(node['left'], row)\n",
        "\t\telse:\n",
        "\t\t\treturn node['left']\n",
        "\telse:\n",
        "\t\tif isinstance(node['right'], dict):\n",
        "\t\t\treturn predict(node['right'], row)\n",
        "\t\telse:\n",
        "\t\t\treturn node['right']"
      ],
      "metadata": {
        "id": "S3yj5FpkArLG"
      },
      "execution_count": null,
      "outputs": []
    },
    {
      "cell_type": "markdown",
      "source": [
        "# Using Sci-kit learn\n",
        "\n",
        "Scikit learn provides a direct command for creating decision tree."
      ],
      "metadata": {
        "id": "2S1Os1rV_i1_"
      }
    },
    {
      "cell_type": "code",
      "source": [
        "from sklearn import tree\n",
        "import h5py\n",
        "\n",
        "# Data import\n",
        "data = h5py.File('spring_stiffness_classify.h5','r')\n",
        "dataset = data.get('dataset')    \n",
        "X = dataset[:,:2]\n",
        "Y = dataset[:,2]\n",
        "\n",
        "# Train\n",
        "clf = tree.DecisionTreeClassifier(criterion='gini', max_depth = 4)\n",
        "clf = clf.fit(X, Y)\n",
        "\n",
        "# Plot\n",
        "tree.plot_tree(clf)"
      ],
      "metadata": {
        "id": "JWGo8vjlXDww",
        "colab": {
          "base_uri": "https://localhost:8080/",
          "height": 404
        },
        "outputId": "bdb46947-6977-461f-a9eb-ac6fe9685c95"
      },
      "execution_count": null,
      "outputs": [
        {
          "output_type": "execute_result",
          "data": {
            "text/plain": [
              "[Text(0.3333333333333333, 0.9, 'X[1] <= 3.376\\ngini = 0.498\\nsamples = 30\\nvalue = [16, 14]'),\n",
              " Text(0.16666666666666666, 0.7, 'gini = 0.0\\nsamples = 8\\nvalue = [8, 0]'),\n",
              " Text(0.5, 0.7, 'X[0] <= 16.5\\ngini = 0.463\\nsamples = 22\\nvalue = [8, 14]'),\n",
              " Text(0.3333333333333333, 0.5, 'gini = 0.0\\nsamples = 3\\nvalue = [3, 0]'),\n",
              " Text(0.6666666666666666, 0.5, 'X[1] <= 6.215\\ngini = 0.388\\nsamples = 19\\nvalue = [5, 14]'),\n",
              " Text(0.5, 0.3, 'X[0] <= 38.5\\ngini = 0.5\\nsamples = 10\\nvalue = [5, 5]'),\n",
              " Text(0.3333333333333333, 0.1, 'gini = 0.0\\nsamples = 5\\nvalue = [5, 0]'),\n",
              " Text(0.6666666666666666, 0.1, 'gini = 0.0\\nsamples = 5\\nvalue = [0, 5]'),\n",
              " Text(0.8333333333333334, 0.3, 'gini = 0.0\\nsamples = 9\\nvalue = [0, 9]')]"
            ]
          },
          "metadata": {},
          "execution_count": 33
        },
        {
          "output_type": "display_data",
          "data": {
            "text/plain": [
              "<Figure size 432x288 with 1 Axes>"
            ],
            "image/png": "[encoded data removed]"
          },
          "metadata": {
            "needs_background": "light"
          }
        }
      ]
    }
  ]
}